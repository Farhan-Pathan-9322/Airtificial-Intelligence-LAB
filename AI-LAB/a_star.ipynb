{
 "cells": [
  {
   "cell_type": "code",
   "execution_count": null,
   "id": "fe0288b8",
   "metadata": {},
   "outputs": [
    {
     "name": "stdout",
     "output_type": "stream",
     "text": [
      "Graph: {'A': {'B': 1, 'C': 4}, 'B': {'A': 1, 'C': 2, 'D': 5}, 'C': {'A': 4, 'B': 2, 'D': 1}, 'D': {'B': 5, 'C': 1}, 'E': {'F': 3}, 'F': {'E': 3, 'G': 2}, 'G': {'F': 2, 'H': 1}, 'H': {'G': 1, 'I': 4}, 'I': {}}\n"
     ]
    }
   ],
   "source": [
    "graph = {\n",
    "    'A':{'B': 1, 'C': 4},\n",
    "    'B':{'A': 1, 'C': 2, 'D': 5},\n",
    "    'C':{'A': 4, 'B': 2, 'D': 1},\n",
    "    'D':{'B': 5, 'C': 1},\n",
    "    'E':{'F': 3},\n",
    "    'F':{'E': 3, 'G': 2},\n",
    "    'G':{'F': 2, 'H': 1},\n",
    "    'H':{'G': 1, 'I': 4},\n",
    "    'I':{}\n",
    "}       \n",
    "\n",
    "\n",
    "huristic = {\n",
    "    'A': 7,      \n",
    "    'B': 6,\n",
    "    'C': 2,\n",
    "    'D': 1,\n",
    "    'E': 6,\n",
    "    'F': 5,\n",
    "    'G': 4,\n",
    "    'H': 3,\n",
    "    'I': 0\n",
    "}\n",
    "start_node = 'A'\n",
    "goal_node = 'I'\n",
    "\n",
    "print(\"Graph:\", graph)"
   ]
  },
  {
   "cell_type": "code",
   "execution_count": null,
   "id": "bbaab2f3",
   "metadata": {},
   "outputs": [],
   "source": []
  }
 ],
 "metadata": {
  "kernelspec": {
   "display_name": "Python 3",
   "language": "python",
   "name": "python3"
  },
  "language_info": {
   "codemirror_mode": {
    "name": "ipython",
    "version": 3
   },
   "file_extension": ".py",
   "mimetype": "text/x-python",
   "name": "python",
   "nbconvert_exporter": "python",
   "pygments_lexer": "ipython3",
   "version": "3.11.0"
  }
 },
 "nbformat": 4,
 "nbformat_minor": 5
}
