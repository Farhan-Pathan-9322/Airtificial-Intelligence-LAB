{
 "cells": [
  {
   "cell_type": "code",
   "execution_count": null,
   "id": "bbaab2f3",
   "metadata": {},
   "outputs": [
    {
     "name": "stdout",
     "output_type": "stream",
     "text": [
      "Graph: {'A': {'B': 6, 'D': 3, 'F': 6}, 'B': {'A': 6, 'C': 3, 'D': 2}, 'C': {'B': 3, 'D': 1, 'E': 5}, 'D': {'A': 3, 'B': 2, 'C': 1, 'G': 5, 'E': 8}, 'E': {'C': 5, 'D': 8, 'J': 5}, 'F': {'A': 6, 'G': 1, 'H': 7}, 'G': {'F': 1, 'D': 5, 'I': 3}, 'H': {'F': 7, 'I': 2}, 'I': {'G': 3, 'H': 2, 'J': 3}, 'J': {'E': 5, 'I': 3}}\n",
      "Heuristic: {'A': 10, 'B': 8, 'C': 5, 'D': 7, 'E': 3, 'F': 6, 'G': 5, 'H': 3, 'I': 1, 'J': 0}\n",
      "Execution finished. Current CLOSED list: ['A']\n"
     ]
    }
   ],

   "source": [
    "graph = {\n",
    "    'A': {'B': 6, 'D': 3, 'F': 6},\n",
    "    'B': {'A': 6, 'C': 3, 'D': 2},\n",
    "    'C': {'B': 3, 'D': 1, 'E': 5},\n",
    "    'D': {'A': 3, 'B': 2, 'C': 1, 'G': 5, 'E':8},\n",
    "    'E': {'C': 5, 'D': 8, 'J': 5},\n",
    "    'F': {'A': 6, 'G': 1, 'H': 7},\n",
    "    'G': {'F': 1, 'D': 5, 'I': 3},\n",
    "    'H': {'F': 7, 'I': 2},\n",
    "    'I': {'G': 3, 'H': 2, 'J': 3},\n",
    "    'J': {'E': 5, 'I': 3}\n",
    "}\n",
    "heuristic = {\n",
    "    'A': 10,\n",
    "    'B': 8,\n",
    "    'C': 5,\n",
    "    'D': 7,\n",
    "    'E': 3,\n",
    "    'F': 6,\n",
    "    'G': 5,\n",
    "    'H': 3,\n",
    "    'I': 1,   \n",
    "    'J': 0   \n",
    "}\n",

    "\n",
    "print(\"Graph:\", graph)\n",
    "print(\"Heuristic:\", heuristic)\n",
    "\n",
    "start = 'A'\n",
    "goal = 'J'\n",
    "OPEN = ['A']\n",
    "CLOSED = []  \n",
    "g_cost = {start: 0}\n",
    "\n",
    "\n",
    "\n",
    "graph['B'] = 6\n",
    "\n",
    "\n",
    "if not OPEN:\n",
    "    print(\"Failure: OPEN is empty. No path found.\")\n",
    "\n",
    "n, f_val = OPEN.pop(0)    \n",
    "CLOSED.append(n)\n",
    "if n == goal:\n",
    "    print(\"Success: Goal reached.\")\n",
    "\n",
    "print(\"Execution finished. Current CLOSED list:\", CLOSED)\n"
   ]
  },
  {
   "cell_type": "code",
   "execution_count": null,
   "id": "a817e4f5",
   "metadata": {},
   "outputs": [
    {
     "name": "stdout",
     "output_type": "stream",
     "text": [
      "f(B) = g(B) + h(B) = 6 + 8 = 14\n",
      "f(F) = g(F) + h(F) = 6 + 6 = 12\n",
      "Smaller f-cost is f(F) = 12\n"
     ]
    }
   ],
   "source": [
    "f_cost = {}\n",
    "# f(n) = g(n) + h(n)\n",
    "\n",
    "g_B = graph[start][' B']\n",
    "h_B = heuristic['B']\n",
    "f_B = g_B + h_B\n",
    "print(f\"f(B) = g(B) + h(B) = {g_B} + {h_B} = {f_B}\")\n",
    "\n",
    "g_F = graph[start]['F']\n",
    "h_F = heuristic['F']\n",
    "f_F = g_F + h_F\n",
    "print(f\"f(F) = g(F) + h(F) = {g_F} + {h_F} = {f_F}\")\n",
    "\n",
    "\n",
    "if f_B < f_F:\n",
    "    print(f\"Smaller f-cost is f(B) = {f_B}\")\n",
    "elif f_F < f_B:\n",
    "    print(f\"Smaller f-cost is f(F) = {f_F}\")\n",
    "else:\n",
    "    print(f\"Both have same f-cost: {f_B}\")\n"
   ]
  }
 ],
 "metadata": {
  "kernelspec": {
   "display_name": "Python 3",
   "language": "python",
   "name": "python3"
  },
  "language_info": {
   "codemirror_mode": {
    "name": "ipython",
    "version": 3
   },
   "file_extension": ".py",
   "mimetype": "text/x-python",
   "name": "python",
   "nbconvert_exporter": "python",
   "pygments_lexer": "ipython3",
   "version": "3.11.0"
  }
 },
 "nbformat": 4,
 "nbformat_minor": 5
}
