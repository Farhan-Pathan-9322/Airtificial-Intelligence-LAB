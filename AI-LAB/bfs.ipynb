{
 "cells": [
  {
   "cell_type": "code",
   "execution_count": 1,
   "id": "64e4cb90",
   "metadata": {},
   "outputs": [
    {
     "name": "stdout",
     "output_type": "stream",
     "text": [

      "{'A': ['B', 'C'], 'B': ['D', 'E'], 'C': ['F', 'G']}\n"
     ]
    }
   ],
   "source": [
    "tree = {\n",
    "    'A' : ['B','C'],\n",
    "    'B' : ['D', 'E'],\n",
    "    'C' : ['F','G']\n",
    "\n",
    "}\n",
    "\n",
    "print(tree) \n",
    "queue = []\n",
    "visited = []\n",
    "\n",
    "def bfs(tree, start):\n",
    "    queue.append(start)\n",
    "    visited.append(start)\n",
    "\n",
    "    while queue:\n",
    "        node = queue.pop(0)\n",
    "        print(node, end=' ')\n",
    "\n",
    "        for child in tree[node]:\n",
    "            if child not in visited:\n",
    "                visited.append(child)\n",
    "                queue.append(child)\n",
    "            \n",
    "\n",
    "\n",
    "\n"
   ]
  },
  {
   "cell_type": "code",
   "execution_count": null,
   "id": "445949c0",
   "metadata": {},
   "outputs": [],
   "source": [
    "    "
   ]
  }
 ],
 "metadata": {
  "kernelspec": {
   "display_name": "Python 3",
   "language": "python",
   "name": "python3"
  },
  "language_info": {
   "codemirror_mode": {
    "name": "ipython",
    "version": 3
   },
   "file_extension": ".py",
   "mimetype": "text/x-python",
   "name": "python",
   "nbconvert_exporter": "python",
   "pygments_lexer": "ipython3",
   "version": "3.11.0"
  }
 },
 "nbformat": 4,
 "nbformat_minor": 5
}
